{
  "cells": [
    {
      "cell_type": "markdown",
      "metadata": {
        "id": "AfIVI6MQiMzE"
      },
      "source": [
        "### MNIST neural network from scratch"
      ]
    },
    {
      "cell_type": "markdown",
      "metadata": {
        "id": "xxZweULXiMzF"
      },
      "source": [
        "#### Fully Connected Layer (Linear Layer)"
      ]
    },
    {
      "cell_type": "code",
      "execution_count": 1,
      "metadata": {
        "id": "1FueIixfiMzG"
      },
      "outputs": [],
      "source": [
        "import numpy as np\n",
        "\n",
        "class Linear():\n",
        "    def __init__(self, in_size, out_size):\n",
        "        self.W = np.random.randn(in_size, out_size) * 0.01\n",
        "        self.b = np.zeros((1, out_size))\n",
        "        self.params = [self.W, self.b]\n",
        "        self.gradW = None\n",
        "        self.gradB = None\n",
        "        self.gradInput = None\n",
        "\n",
        "    def forward(self, X):\n",
        "        self.X = X\n",
        "        self.output = np.dot(X, self.W) + self.b\n",
        "        return self.output\n",
        "\n",
        "    def backward(self, nextgrad):\n",
        "        self.gradW = np.dot(self.X.T, nextgrad)\n",
        "        self.gradB = np.sum(nextgrad, axis=0)\n",
        "        self.gradInput = np.dot(nextgrad, self.W.T)\n",
        "        return self.gradInput, [self.gradW, self.gradB]"
      ]
    },
    {
      "cell_type": "markdown",
      "metadata": {
        "id": "O33Noi4iiMzM"
      },
      "source": [
        "#### Rectified Linear Activation Layer (ReLU)\n"
      ]
    },
    {
      "cell_type": "code",
      "execution_count": 2,
      "metadata": {
        "id": "KOa9j3cfiMzN"
      },
      "outputs": [],
      "source": [
        "class ReLU():\n",
        "    def __init__(self):\n",
        "        self.params = []\n",
        "        self.gradInput = None\n",
        "\n",
        "    def forward(self, X):\n",
        "        self.output = np.maximum(X, 0)\n",
        "        return self.output\n",
        "\n",
        "    def backward(self, nextgrad):\n",
        "        self.gradInput = nextgrad.copy()\n",
        "        self.gradInput[self.output <=0] = 0\n",
        "        return self.gradInput, []"
      ]
    },
    {
      "cell_type": "markdown",
      "metadata": {
        "id": "XUl0dk6HiMzR"
      },
      "source": [
        "#### Defining the softmax function"
      ]
    },
    {
      "cell_type": "code",
      "execution_count": 3,
      "metadata": {
        "id": "gUTsLik3iMzS"
      },
      "outputs": [],
      "source": [
        "def softmax(x):\n",
        "    exp_x = np.exp(x - np.max(x, axis=1, keepdims=True))\n",
        "    return exp_x / np.sum(exp_x, axis=1, keepdims=True)"
      ]
    },
    {
      "cell_type": "markdown",
      "metadata": {
        "id": "zocFN7QQiMzV"
      },
      "source": [
        "#### Defining the Cross Entropy Loss"
      ]
    },
    {
      "cell_type": "code",
      "execution_count": 4,
      "metadata": {
        "id": "_wYY1bnEiMzW"
      },
      "outputs": [],
      "source": [
        "class CrossEntropy:\n",
        "    def forward(self, X, y):\n",
        "        self.m = y.shape[0]\n",
        "        self.p = softmax(X)\n",
        "        cross_entropy = -np.log(self.p[range(self.m), y])\n",
        "        # loss = cross_entropy[0] / self.m         # please note this line was in the video however the correct line is the below one\n",
        "        loss = np.sum(cross_entropy) / self.m      # which involves taking a sum across the losses for all the examples in the batch\n",
        "        return loss\n",
        "\n",
        "    def backward(self, X, y):\n",
        "        y_idx = y.argmax()\n",
        "        grad = softmax(X)\n",
        "        grad[range(self.m), y] -= 1\n",
        "        grad /= self.m\n",
        "        return grad"
      ]
    },
    {
      "cell_type": "markdown",
      "metadata": {
        "id": "uFAwwd53iMza"
      },
      "source": [
        "#### Loading the MNIST dataset"
      ]
    },
    {
      "cell_type": "code",
      "execution_count": 5,
      "metadata": {
        "colab": {
          "base_uri": "https://localhost:8080/"
        },
        "id": "KJLO_akoiMzb",
        "outputId": "a83bbcb7-fd32-4faf-e893-c469246641ac"
      },
      "outputs": [
        {
          "output_type": "stream",
          "name": "stdout",
          "text": [
            "Downloading data from https://storage.googleapis.com/tensorflow/tf-keras-datasets/mnist.npz\n",
            "11490434/11490434 [==============================] - 0s 0us/step\n",
            "(60000, 784)\n",
            "(10000, 784)\n",
            "(60000,)\n",
            "(10000,)\n"
          ]
        }
      ],
      "source": [
        "from keras.datasets import mnist\n",
        "from keras.utils import np_utils\n",
        "\n",
        "\n",
        "(train_features, train_targets), (test_features, test_targets) = mnist.load_data()\n",
        "\n",
        "\n",
        "train_features = train_features.reshape(60000, 784)\n",
        "print(train_features.shape)\n",
        "test_features = test_features.reshape(10000, 784)\n",
        "print(test_features.shape)\n",
        "\n",
        "\n",
        "# # normalize inputs from 0-255 to 0-1\n",
        "train_features = train_features / 255.0\n",
        "test_features = test_features / 255.0\n",
        "\n",
        "print(train_targets.shape)\n",
        "print(test_targets.shape)\n",
        "\n",
        "X_train = train_features\n",
        "y_train = train_targets\n",
        "\n",
        "X_val = test_features\n",
        "y_val = test_targets\n"
      ]
    },
    {
      "cell_type": "code",
      "execution_count": 6,
      "metadata": {
        "colab": {
          "base_uri": "https://localhost:8080/",
          "height": 119
        },
        "id": "YS6LnJwviMzg",
        "outputId": "d5b83481-8b94-4a2f-cba7-b560dcf0687b"
      },
      "outputs": [
        {
          "output_type": "display_data",
          "data": {
            "text/plain": [
              "<Figure size 1000x100 with 10 Axes>"
            ],
            "image/png": "[encoded data removed]"
          },
          "metadata": {}
        },
        {
          "output_type": "stream",
          "name": "stdout",
          "text": [
            "label for each of the above image: [5 0 4 1 9 2 1 3 1 4]\n"
          ]
        }
      ],
      "source": [
        "# visualizing the first 10 images in the dataset and their labels\n",
        "%matplotlib inline\n",
        "import matplotlib.pyplot as plt\n",
        "plt.figure(figsize=(10, 1))\n",
        "for i in range(10):\n",
        "    plt.subplot(1, 10, i+1)\n",
        "    plt.imshow(X_train[i].reshape(28, 28), cmap=\"gray\")\n",
        "    plt.axis('off')\n",
        "plt.show()\n",
        "print('label for each of the above image: %s' % (y_train[0:10]))"
      ]
    },
    {
      "cell_type": "markdown",
      "metadata": {
        "id": "EJ587e81iMzk"
      },
      "source": [
        "#### Here, we define the container NN class that enables the forward prop and backward propagation of the entire network. Note, how this class enables us to add layers of different types and also correctly pass gradients using the chain rule."
      ]
    },
    {
      "cell_type": "code",
      "execution_count": 7,
      "metadata": {
        "id": "X3u-gxUJiMzk"
      },
      "outputs": [],
      "source": [
        "class NN():\n",
        "    def __init__(self, lossfunc=CrossEntropy()):\n",
        "        self.params = []\n",
        "        self.layers = []\n",
        "        self.loss_func = lossfunc\n",
        "        self.grads = []\n",
        "\n",
        "    def add_layer(self, layer):\n",
        "        self.layers.append(layer)\n",
        "        self.params.append(layer.params)\n",
        "\n",
        "    def forward(self, X):\n",
        "        for layer in self.layers:\n",
        "            X = layer.forward(X)\n",
        "        return X\n",
        "\n",
        "    def backward(self, nextgrad):\n",
        "        self.clear_grad_param()\n",
        "        for layer in reversed(self.layers):\n",
        "            nextgrad, grad = layer.backward(nextgrad)\n",
        "            self.grads.append(grad)\n",
        "        return self.grads\n",
        "\n",
        "    def train_step(self, X, y):\n",
        "        out = self.forward(X)\n",
        "        loss = self.loss_func.forward(out,y)\n",
        "        nextgrad = self.loss_func.backward(out,y)\n",
        "        grads = self.backward(nextgrad)\n",
        "        return loss, grads\n",
        "\n",
        "    def predict(self, X):\n",
        "        X = self.forward(X)\n",
        "        return np.argmax(X, axis=1)\n",
        "\n",
        "    def predict_scores(self, X):\n",
        "        X = self.forward(X)\n",
        "        return X\n",
        "\n",
        "    def clear_grad_param(self):\n",
        "        self.grads = []"
      ]
    },
    {
      "cell_type": "markdown",
      "metadata": {
        "id": "M-NKsF22iMzn"
      },
      "source": [
        "#### Defining the update function (SGD with momentum)"
      ]
    },
    {
      "cell_type": "code",
      "execution_count": 8,
      "metadata": {
        "id": "LsNd7D7BiMzo"
      },
      "outputs": [],
      "source": [
        "def update_params(velocity, params, grads, learning_rate=0.01, mu=0.9):\n",
        "    for v, p, g, in zip(velocity, params, reversed(grads)):\n",
        "        for i in range(len(g)):\n",
        "            v[i] = mu * v[i] + learning_rate * g[i]\n",
        "            p[i] -= v[i]"
      ]
    },
    {
      "cell_type": "markdown",
      "metadata": {
        "id": "4qe-KMG_iMzs"
      },
      "source": [
        "#### Defining a function which gives us the minibatches (both the datapoint and the corresponding label)"
      ]
    },
    {
      "cell_type": "code",
      "execution_count": 9,
      "metadata": {
        "id": "ZFOyQ2ZGiMzs"
      },
      "outputs": [],
      "source": [
        "# get minibatches\n",
        "def minibatch(X, y, minibatch_size):\n",
        "    n = X.shape[0]\n",
        "    minibatches = []\n",
        "    permutation = np.random.permutation(X.shape[0])\n",
        "    X = X[permutation]\n",
        "    y = y[permutation]\n",
        "\n",
        "    for i in range(0, n , minibatch_size):\n",
        "        X_batch = X[i:i + minibatch_size, :]\n",
        "        y_batch = y[i:i + minibatch_size, ]\n",
        "        minibatches.append((X_batch, y_batch))\n",
        "\n",
        "    return minibatches"
      ]
    },
    {
      "cell_type": "markdown",
      "metadata": {
        "id": "bdX0EnUgiMzw"
      },
      "source": [
        "#### The traning loop"
      ]
    },
    {
      "cell_type": "code",
      "execution_count": 10,
      "metadata": {
        "id": "DM7XtCTjiMzx"
      },
      "outputs": [],
      "source": [
        "def train(net, X_train, y_train, minibatch_size, epoch, learning_rate, mu=0.9, X_val=None, y_val=None):\n",
        "    val_loss_epoch = []\n",
        "    minibatches = minibatch(X_train, y_train, minibatch_size)\n",
        "    minibatches_val = minibatch(X_val, y_val, minibatch_size)\n",
        "\n",
        "\n",
        "    for i in range(epoch):\n",
        "        loss_batch = []\n",
        "        val_loss_batch = []\n",
        "        velocity = []\n",
        "        for param_layer in net.params:\n",
        "            p = [np.zeros_like(param) for param in list(param_layer)]\n",
        "            velocity.append(p)\n",
        "\n",
        "        # iterate over mini batches\n",
        "        for X_mini, y_mini in minibatches:\n",
        "            loss, grads = net.train_step(X_mini, y_mini)\n",
        "            loss_batch.append(loss)\n",
        "            update_params(velocity, net.params, grads, learning_rate=learning_rate, mu=mu)\n",
        "\n",
        "        for X_mini_val, y_mini_val in minibatches_val:\n",
        "            val_loss, _ = net.train_step(X_mini, y_mini)\n",
        "            val_loss_batch.append(val_loss)\n",
        "\n",
        "        # accuracy of model at end of epoch after all mini batch updates\n",
        "        m_train = X_train.shape[0]\n",
        "        m_val = X_val.shape[0]\n",
        "        y_train_pred = np.array([], dtype=\"int64\")\n",
        "        y_val_pred = np.array([], dtype=\"int64\")\n",
        "        y_train1 = []\n",
        "        y_vall = []\n",
        "        for i in range(0, m_train, minibatch_size):\n",
        "            X_tr = X_train[i:i + minibatch_size, : ]\n",
        "            y_tr = y_train[i:i + minibatch_size,]\n",
        "            y_train1 = np.append(y_train1, y_tr)\n",
        "            y_train_pred = np.append(y_train_pred, net.predict(X_tr))\n",
        "\n",
        "        for i in range(0, m_val, minibatch_size):\n",
        "            X_va = X_val[i:i + minibatch_size, : ]\n",
        "            y_va = y_val[i:i + minibatch_size,]\n",
        "            y_vall = np.append(y_vall, y_va)\n",
        "            y_val_pred = np.append(y_val_pred, net.predict(X_va))\n",
        "\n",
        "        train_acc = check_accuracy(y_train1, y_train_pred)\n",
        "        val_acc = check_accuracy(y_vall, y_val_pred)\n",
        "\n",
        "        mean_train_loss = sum(loss_batch) / float(len(loss_batch))\n",
        "        mean_val_loss = sum(val_loss_batch) / float(len(val_loss_batch))\n",
        "\n",
        "        val_loss_epoch.append(mean_val_loss)\n",
        "        print(\"Loss = {0} | Training Accuracy = {1} | Val Loss = {2} | Val Accuracy = {3}\".format(mean_train_loss, train_acc, mean_val_loss, val_acc))\n",
        "    return net"
      ]
    },
    {
      "cell_type": "markdown",
      "metadata": {
        "id": "JauSFCZZiMz2"
      },
      "source": [
        "#### Checking the accuracy of the model"
      ]
    },
    {
      "cell_type": "code",
      "execution_count": 11,
      "metadata": {
        "id": "UlnmjqaviMz3"
      },
      "outputs": [],
      "source": [
        "def check_accuracy(y_true, y_pred):\n",
        "    return np.mean(y_pred == y_true)"
      ]
    },
    {
      "cell_type": "markdown",
      "metadata": {
        "id": "I_JSqjs9iMz7"
      },
      "source": [
        "#### Invoking all that we have created until now"
      ]
    },
    {
      "cell_type": "code",
      "execution_count": 12,
      "metadata": {
        "colab": {
          "base_uri": "https://localhost:8080/"
        },
        "id": "ipPGnUmgiMz8",
        "outputId": "249a8b85-1d08-4624-a72d-56e393438807"
      },
      "outputs": [
        {
          "output_type": "stream",
          "name": "stdout",
          "text": [
            "Loss = 0.49363537409323965 | Training Accuracy = 0.9399666666666666 | Val Loss = 0.2619396721117755 | Val Accuracy = 0.9404\n",
            "Loss = 0.18855553727818997 | Training Accuracy = 0.9576333333333333 | Val Loss = 0.20931831796931152 | Val Accuracy = 0.9551\n",
            "Loss = 0.14373503340842306 | Training Accuracy = 0.96555 | Val Loss = 0.16624079450925508 | Val Accuracy = 0.962\n",
            "Loss = 0.11926945122631158 | Training Accuracy = 0.9717166666666667 | Val Loss = 0.14841736583833032 | Val Accuracy = 0.9652\n",
            "Loss = 0.10463168491927556 | Training Accuracy = 0.9736333333333334 | Val Loss = 0.16054254493821227 | Val Accuracy = 0.9654\n",
            "Loss = 0.09466435205812619 | Training Accuracy = 0.9754666666666667 | Val Loss = 0.17503394610054118 | Val Accuracy = 0.9669\n",
            "Loss = 0.08717980023371884 | Training Accuracy = 0.9763333333333334 | Val Loss = 0.17448878937417256 | Val Accuracy = 0.9667\n",
            "Loss = 0.08091838719309581 | Training Accuracy = 0.9774166666666667 | Val Loss = 0.17829400423313246 | Val Accuracy = 0.9662\n",
            "Loss = 0.07565948083188041 | Training Accuracy = 0.97745 | Val Loss = 0.17532024237594016 | Val Accuracy = 0.9673\n",
            "Loss = 0.07135322710218059 | Training Accuracy = 0.97935 | Val Loss = 0.1734236528743676 | Val Accuracy = 0.9689\n"
          ]
        }
      ],
      "source": [
        "from random import shuffle\n",
        "\n",
        "## input size\n",
        "input_dim = X_train.shape[1]\n",
        "\n",
        "## hyperparameters\n",
        "iterations = 10\n",
        "learning_rate = 0.1\n",
        "hidden_nodes = 32\n",
        "output_nodes = 10\n",
        "\n",
        "## define neural net\n",
        "nn = NN()\n",
        "nn.add_layer(Linear(input_dim, hidden_nodes))\n",
        "nn.add_layer(ReLU())\n",
        "nn.add_layer(Linear(hidden_nodes, output_nodes))\n",
        "\n",
        "nn = train(nn, X_train , y_train, minibatch_size=200, epoch=10, \\\n",
        "           learning_rate=learning_rate, X_val=X_val, y_val=y_val)"
      ]
    },
    {
      "cell_type": "markdown",
      "metadata": {
        "id": "2pnlNifKiM0B"
      },
      "source": [
        "#### fprop a single image and showing its prediction"
      ]
    },
    {
      "cell_type": "code",
      "execution_count": 13,
      "metadata": {
        "colab": {
          "base_uri": "https://localhost:8080/",
          "height": 447
        },
        "id": "A1Df46k3iM0C",
        "outputId": "81265914-62f1-4307-c30d-90d9f5f21a09"
      },
      "outputs": [
        {
          "output_type": "execute_result",
          "data": {
            "text/plain": [
              "<matplotlib.image.AxesImage at 0x7c34e5817b80>"
            ]
          },
          "metadata": {},
          "execution_count": 13
        },
        {
          "output_type": "display_data",
          "data": {
            "text/plain": [
              "<Figure size 640x480 with 1 Axes>"
            ],
            "image/png": "[encoded data removed]"
          },
          "metadata": {}
        }
      ],
      "source": [
        "plt.imshow(X_val[0].reshape(28,28), cmap='gray')"
      ]
    },
    {
      "cell_type": "code",
      "execution_count": 14,
      "metadata": {
        "id": "7lyqu36iiM0G"
      },
      "outputs": [],
      "source": [
        "# Predict Scores for each class\n",
        "prediction = nn.predict_scores(X_val[0])[0]"
      ]
    },
    {
      "cell_type": "code",
      "execution_count": 15,
      "metadata": {
        "colab": {
          "base_uri": "https://localhost:8080/"
        },
        "id": "LDTSzeTkiM0J",
        "outputId": "2b6a5377-5765-43e6-940e-cfe8a8974fe7"
      },
      "outputs": [
        {
          "output_type": "stream",
          "name": "stdout",
          "text": [
            "Scores\n",
            "[ -4.5854725   -6.937028     9.06020541   9.61927853 -11.06195862\n",
            "  -3.67461718 -16.86842129  19.59401191   3.41401241   1.84844982]\n"
          ]
        }
      ],
      "source": [
        "print (\"Scores\")\n",
        "print (prediction)"
      ]
    },
    {
      "cell_type": "code",
      "execution_count": 16,
      "metadata": {
        "colab": {
          "base_uri": "https://localhost:8080/"
        },
        "id": "HTIiNdJliM0M",
        "outputId": "5d8af065-d4b2-42ee-91c9-e2c06c7e9585"
      },
      "outputs": [
        {
          "output_type": "execute_result",
          "data": {
            "text/plain": [
              "7"
            ]
          },
          "metadata": {},
          "execution_count": 16
        }
      ],
      "source": [
        "np.argmax(prediction)"
      ]
    },
    {
      "cell_type": "code",
      "execution_count": 17,
      "metadata": {
        "colab": {
          "base_uri": "https://localhost:8080/"
        },
        "id": "I9NyUYaViM0P",
        "outputId": "88a2ef98-5270-4478-cd73-87ec8177874f"
      },
      "outputs": [
        {
          "output_type": "execute_result",
          "data": {
            "text/plain": [
              "7"
            ]
          },
          "metadata": {},
          "execution_count": 17
        }
      ],
      "source": [
        "predict_class = nn.predict(X_val[0])[0]\n",
        "predict_class"
      ]
    },
    {
      "cell_type": "code",
      "execution_count": 18,
      "metadata": {
        "colab": {
          "base_uri": "https://localhost:8080/"
        },
        "id": "u6_bSLc2iM0R",
        "outputId": "21f86cae-2a67-4939-c42c-dc511874a5f4"
      },
      "outputs": [
        {
          "output_type": "execute_result",
          "data": {
            "text/plain": [
              "7"
            ]
          },
          "metadata": {},
          "execution_count": 18
        }
      ],
      "source": [
        "# Original class\n",
        "y_val[0]"
      ]
    },
    {
      "cell_type": "code",
      "execution_count": 18,
      "metadata": {
        "id": "gY9ZM6eXHCL9"
      },
      "outputs": [],
      "source": []
    }
  ],
  "metadata": {
    "colab": {
      "provenance": []
    },
    "kernelspec": {
      "display_name": "Python 3",
      "language": "python",
      "name": "python3"
    },
    "language_info": {
      "codemirror_mode": {
        "name": "ipython",
        "version": 3
      },
      "file_extension": ".py",
      "mimetype": "text/x-python",
      "name": "python",
      "nbconvert_exporter": "python",
      "pygments_lexer": "ipython3",
      "version": "3.8.8"
    }
  },
  "nbformat": 4,
  "nbformat_minor": 0
}